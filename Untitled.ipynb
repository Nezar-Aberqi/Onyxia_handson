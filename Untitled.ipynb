{
 "cells": [
  {
   "cell_type": "code",
   "execution_count": 11,
   "id": "e01e736e-e244-4321-84fc-70f4f86d0bb0",
   "metadata": {},
   "outputs": [
    {
     "name": "stdout",
     "output_type": "stream",
     "text": [
      "Requirement already satisfied: psycopg2-binary in /opt/conda/lib/python3.12/site-packages (2.9.10)\n",
      "Requirement already satisfied: pandas in /opt/conda/lib/python3.12/site-packages (2.2.3)\n",
      "Requirement already satisfied: sqlalchemy in /opt/conda/lib/python3.12/site-packages (2.0.36)\n",
      "Requirement already satisfied: numpy>=1.26.0 in /opt/conda/lib/python3.12/site-packages (from pandas) (2.1.2)\n",
      "Requirement already satisfied: python-dateutil>=2.8.2 in /opt/conda/lib/python3.12/site-packages (from pandas) (2.9.0)\n",
      "Requirement already satisfied: pytz>=2020.1 in /opt/conda/lib/python3.12/site-packages (from pandas) (2024.1)\n",
      "Requirement already satisfied: tzdata>=2022.7 in /opt/conda/lib/python3.12/site-packages (from pandas) (2024.2)\n",
      "Requirement already satisfied: typing-extensions>=4.6.0 in /opt/conda/lib/python3.12/site-packages (from sqlalchemy) (4.12.2)\n",
      "Requirement already satisfied: greenlet!=0.4.17 in /opt/conda/lib/python3.12/site-packages (from sqlalchemy) (3.1.1)\n",
      "Requirement already satisfied: six>=1.5 in /opt/conda/lib/python3.12/site-packages (from python-dateutil>=2.8.2->pandas) (1.16.0)\n"
     ]
    }
   ],
   "source": [
    "! pip install psycopg2-binary pandas sqlalchemy"
   ]
  },
  {
   "cell_type": "code",
   "execution_count": 26,
   "id": "990b8cfa-d19b-45d0-a72d-b562eccde8f1",
   "metadata": {},
   "outputs": [],
   "source": [
    "from sqlalchemy import text\n"
   ]
  },
  {
   "cell_type": "code",
   "execution_count": 12,
   "id": "3a419ac9-632e-4b6e-b7be-5a490bddefb0",
   "metadata": {},
   "outputs": [],
   "source": [
    "usagers=pd.read_csv('usagers-2022.csv')\n",
    "vehicules = pd.read_csv('vehicules-2022.csv')"
   ]
  },
  {
   "cell_type": "code",
   "execution_count": 15,
   "id": "0006f0f1-5429-426a-9b16-670fc4d7c015",
   "metadata": {},
   "outputs": [],
   "source": [
    "from sqlalchemy import create_engine\n",
    "\n",
    "# Connexion Information \n",
    "user = \"user-nezar\"\n",
    "password = \"65qipmg0qkm4jgsgyi7b\"\n",
    "host = \"postgresql-961957.user-nezar\"\n",
    "database = \"defaultdb\"\n",
    "\n",
    "connection_url = f\"postgresql+psycopg2://{user}:{password}@{host}/{database}\"\n",
    "\n",
    "engine = create_engine(connection_url)"
   ]
  },
  {
   "cell_type": "code",
   "execution_count": 16,
   "id": "f577e7ae-2582-4dc1-b724-7795d47e71ed",
   "metadata": {},
   "outputs": [
    {
     "data": {
      "text/plain": [
       "493"
      ]
     },
     "execution_count": 16,
     "metadata": {},
     "output_type": "execute_result"
    }
   ],
   "source": [
    "usagers.to_sql('usagers', con=engine, if_exists='replace', index=False)\n",
    "vehicules.to_sql('vehicules', con=engine, if_exists='replace', index=False)"
   ]
  },
  {
   "cell_type": "code",
   "execution_count": 28,
   "id": "d5a3e4ac-001a-4f0a-aca3-c809c0af908e",
   "metadata": {},
   "outputs": [
    {
     "name": "stdout",
     "output_type": "stream",
     "text": [
      "126662\n"
     ]
    }
   ],
   "source": [
    "with engine.connect() as connection:\n",
    "    result = connection.execute(text('SELECT Count(*) FROM \"usagers\"')) \n",
    "    for row  in  result : \n",
    "        print(row[0])"
   ]
  }
 ],
 "metadata": {
  "kernelspec": {
   "display_name": "Python 3 (ipykernel)",
   "language": "python",
   "name": "python3"
  },
  "language_info": {
   "codemirror_mode": {
    "name": "ipython",
    "version": 3
   },
   "file_extension": ".py",
   "mimetype": "text/x-python",
   "name": "python",
   "nbconvert_exporter": "python",
   "pygments_lexer": "ipython3",
   "version": "3.12.6"
  }
 },
 "nbformat": 4,
 "nbformat_minor": 5
}
